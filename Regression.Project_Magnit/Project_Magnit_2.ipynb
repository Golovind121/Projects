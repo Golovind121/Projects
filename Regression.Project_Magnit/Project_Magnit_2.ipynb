{
 "cells": [
  {
   "cell_type": "markdown",
   "metadata": {
    "id": "4ilsowVlNvwp"
   },
   "source": [
    "Задача №2 \n",
    "Требуется реализовать на языке Python алгоритм градиентного спуска для решения задачи регрессии. Также требуется в алгоритм добавить возможность ограничения по весу признаков в произвольных диапазонах во время процесса оптимизации.\n"
   ]
  },
  {
   "cell_type": "markdown",
   "metadata": {
    "id": "fdf0oIMTOkaA"
   },
   "source": [
    "Для решения задачи возьмем классический алгоритм *стохастического градиентного спуска(SGD)* с добавлением в него *Lasso(L1)* и *Ridge(L2)* регуляризаций.\n",
    "Для оценки будем использовать *средний квадрат ошибки(MSE)*."
   ]
  },
  {
   "cell_type": "markdown",
   "metadata": {
    "id": "V4YRyjIIN9FE"
   },
   "source": [
    "Импортуруем нужные для работы библиотеки:"
   ]
  },
  {
   "cell_type": "code",
   "execution_count": 1,
   "metadata": {
    "id": "UXSDdXCgl0Qu"
   },
   "outputs": [],
   "source": [
    "import numpy as np\n",
    "from matplotlib import pyplot as plt"
   ]
  },
  {
   "cell_type": "markdown",
   "metadata": {
    "id": "grYQNB12ddpP"
   },
   "source": [
    "Для реализациии SGD из входных данных нам потребуется массив признаков*(X)*, массив таргетов*(y)*, число иттераций для спуска*(max iter)*, шаг обучения*(lr)*.\n",
    "В функции значения \"max iter\" и \"lr\" зададим произвольным стандартным значениям для того чтобы алгоритм мог работать без задания их в вызове функции.\n",
    "Для включения регуляризаций введем булеву переменную*(regularization)* для включения*(True)* и выключения*(False)* соотвественно. "
   ]
  },
  {
   "cell_type": "markdown",
   "metadata": {
    "id": "OkRLY7zHNqTR"
   },
   "source": [
    "Реализация стохастического градиентного спуска с L1 и L2 регуляризациями:"
   ]
  },
  {
   "cell_type": "code",
   "execution_count": 2,
   "metadata": {
    "id": "tGZ8bCTDlRdI"
   },
   "outputs": [],
   "source": [
    "def My_grad_desccent(X, y, lr=1e-4, max_iter=100, regularization=False, l1=10, l2=10):\n",
    "    w = np.zeros(len(X[0]))\n",
    "    n = len(y)\n",
    "    error = np.array([])\n",
    "    if regularization is True:\n",
    "        for iter in range(max_iter):\n",
    "            y_hat = X @ w\n",
    "            w = w - lr * (X.T @ (y_hat - y) + l1 * np.sign(w) + 2 * l2 * w)\n",
    "            error = np.append(error, MSE(X, y, w))\n",
    "    else:\n",
    "        for iter in range(max_iter):\n",
    "            y_hat = X @ w\n",
    "            w = w - lr * 1 / n * X.T @ (y_hat - y)\n",
    "            error = np.append(error, MSE(X, y, w))\n",
    "    return (w, error, y_hat)"
   ]
  },
  {
   "cell_type": "markdown",
   "metadata": {
    "id": "kdgCpnTDQpQo"
   },
   "source": [
    "Реализация функции для нахождения среднего квадрата ошибки:\n",
    "\\\n",
    "$$\\displaystyle\\frac{1}{n}\\sum_{i=0}^{n-1} (\\widehat{y_i} - y_i)^2\n",
    "$$\n",
    "\n"
   ]
  },
  {
   "cell_type": "code",
   "execution_count": 3,
   "metadata": {
    "id": "b207fzgLNtOH"
   },
   "outputs": [],
   "source": [
    "def MSE(X, y, w):\n",
    "    return 1 / len(y) * np.sum(np.square(X @ w - y))"
   ]
  },
  {
   "cell_type": "code",
   "execution_count": 39,
   "metadata": {
    "id": "rS_KU3MpOUUg"
   },
   "outputs": [],
   "source": [
    "np.random.seed(42)\n",
    "dataset = np.random.randint(1, 9, size=(7, 5))\n",
    "target = np.random.randint(1, 9, len(dataset))\n",
    "w, error, pred = My_grad_desccent(dataset, target, lr=1e-4, max_iter=1000, regularization=False)"
   ]
  },
  {
   "cell_type": "markdown",
   "metadata": {
    "id": "1gYa-F6rJB3y"
   },
   "source": [
    "Выведем значения сгенерированного датасета, матрицы весов, ошибку регулирования, массив предсказаний и сгенерированных таргетов:"
   ]
  },
  {
   "cell_type": "code",
   "execution_count": 44,
   "metadata": {
    "colab": {
     "base_uri": "https://localhost:8080/"
    },
    "id": "QxhI5gHKI9tR",
    "outputId": "b73ce94f-cd34-422a-cd86-8e32715997d3"
   },
   "outputs": [
    {
     "name": "stdout",
     "output_type": "stream",
     "text": [
      "dataset =\n",
      " [[7 4 5 7 3]\n",
      " [8 5 5 7 2]\n",
      " [3 7 3 3 8]\n",
      " [5 4 8 8 3]\n",
      " [6 5 2 8 4]\n",
      " [6 6 2 8 4]\n",
      " [5 1 4 2 6]]\n",
      "\n",
      "w =\n",
      " [[ 1.08356057]\n",
      " [-0.65258292]\n",
      " [-0.13820263]\n",
      " [-0.19025576]\n",
      " [ 0.45289694]] \n",
      "\n",
      "error = 0.19694036243335633\n",
      "\n",
      "y_pred =\n",
      " [[4.31024457]\n",
      " [4.28833709]\n",
      " [1.32097453]\n",
      " [1.53938808]\n",
      " [3.25131604]\n",
      " [2.59894535]\n",
      " [6.54829225]] \n",
      "y =\n",
      " [[5]\n",
      " [4]\n",
      " [1]\n",
      " [1]\n",
      " [3]\n",
      " [3]\n",
      " [7]]\n"
     ]
    }
   ],
   "source": [
    "print('dataset =\\n', dataset)\n",
    "print('\\nw =\\n', w.reshape(-1, 1), '\\n\\nerror =', error[-1])\n",
    "print('\\ny_pred =\\n', pred.reshape(-1, 1), '\\ny =\\n', target.reshape(-1, 1))"
   ]
  },
  {
   "cell_type": "markdown",
   "metadata": {
    "id": "JTAmeUcGJuzf"
   },
   "source": [
    "Визуализируем работу оптимизатора для случая с включенной и выключенной регуляризациями:"
   ]
  },
  {
   "cell_type": "code",
   "execution_count": 42,
   "metadata": {
    "colab": {
     "base_uri": "https://localhost:8080/",
     "height": 279
    },
    "id": "5O6O9T0YzQJn",
    "outputId": "9ba6d20c-de82-46c4-b58a-7de5eb102cc3"
   },
   "outputs": [
    {
     "data": {
      "image/png": "[encoded data removed]",
      "text/plain": [
       "<Figure size 432x288 with 1 Axes>"
      ]
     },
     "metadata": {
      "needs_background": "light"
     },
     "output_type": "display_data"
    }
   ],
   "source": [
    "w, error, pred = My_grad_desccent(dataset, target, lr=1e-3, max_iter=1000, regularization=True)\n",
    "plt.plot(np.arange(len(error)), error);\n",
    "w, error, pred = My_grad_desccent(dataset, target, lr=1e-3, max_iter=1000, regularization=False)\n",
    "\n",
    "plt.plot(np.arange(len(error)), error)\n",
    "plt.grid()\n",
    "plt.ylabel('MSE');plt.xlabel('iteration')\n",
    "plt.legend(('regul ON', 'regularization OFF'))\n",
    "plt.show()"
   ]
  }
 ],
 "metadata": {
  "colab": {
   "collapsed_sections": [],
   "name": "Project_Magnit_2.ipynb",
   "provenance": []
  },
  "kernelspec": {
   "display_name": "Python 3",
   "language": "python",
   "name": "python3"
  },
  "language_info": {
   "codemirror_mode": {
    "name": "ipython",
    "version": 3
   },
   "file_extension": ".py",
   "mimetype": "text/x-python",
   "name": "python",
   "nbconvert_exporter": "python",
   "pygments_lexer": "ipython3",
   "version": "3.8.8"
  }
 },
 "nbformat": 4,
 "nbformat_minor": 1
}
